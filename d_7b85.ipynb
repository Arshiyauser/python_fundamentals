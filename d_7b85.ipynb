{
 "cells": [
  {
   "cell_type": "code",
   "execution_count": 1,
   "id": "acee46ec",
   "metadata": {},
   "outputs": [
    {
     "name": "stdout",
     "output_type": "stream",
     "text": [
      "{'keerthi', 'ilahi', 'sarika', 'naveed'}\n"
     ]
    }
   ],
   "source": [
    "students = {'sarika','keerthi','naveed','ilahi'}\n",
    "print(students)"
   ]
  },
  {
   "cell_type": "code",
   "execution_count": 2,
   "id": "6287f5ce",
   "metadata": {},
   "outputs": [
    {
     "data": {
      "text/plain": [
       "set"
      ]
     },
     "execution_count": 2,
     "metadata": {},
     "output_type": "execute_result"
    }
   ],
   "source": [
    "type(students)"
   ]
  },
  {
   "cell_type": "code",
   "execution_count": 3,
   "id": "ad082133",
   "metadata": {},
   "outputs": [
    {
     "name": "stdout",
     "output_type": "stream",
     "text": [
      "('sarika', 'hema', 'fatima', 'noorain')\n"
     ]
    }
   ],
   "source": [
    "students = ('sarika','hema','fatima','noorain')\n",
    "print(students)"
   ]
  },
  {
   "cell_type": "code",
   "execution_count": 4,
   "id": "257b754b",
   "metadata": {},
   "outputs": [
    {
     "data": {
      "text/plain": [
       "tuple"
      ]
     },
     "execution_count": 4,
     "metadata": {},
     "output_type": "execute_result"
    }
   ],
   "source": [
    "type(students)"
   ]
  },
  {
   "cell_type": "code",
   "execution_count": 5,
   "id": "62aae58d",
   "metadata": {},
   "outputs": [
    {
     "name": "stdout",
     "output_type": "stream",
     "text": [
      "noorain\n"
     ]
    }
   ],
   "source": [
    "print(students[3])"
   ]
  },
  {
   "cell_type": "code",
   "execution_count": 6,
   "id": "3869f8a0",
   "metadata": {},
   "outputs": [
    {
     "name": "stdout",
     "output_type": "stream",
     "text": [
      "Fatima\n"
     ]
    }
   ],
   "source": [
    "print(students[2].title())"
   ]
  },
  {
   "cell_type": "code",
   "execution_count": 7,
   "id": "ea77b0a0",
   "metadata": {},
   "outputs": [
    {
     "name": "stdout",
     "output_type": "stream",
     "text": [
      "sarika\n",
      "hema\n",
      "fatima\n",
      "noorain\n"
     ]
    }
   ],
   "source": [
    "for r in students:\n",
    "    print(r)"
   ]
  },
  {
   "cell_type": "code",
   "execution_count": 8,
   "id": "7094433b",
   "metadata": {},
   "outputs": [
    {
     "name": "stdout",
     "output_type": "stream",
     "text": [
      "{'color': 'Blue', 'cost': '450'}\n"
     ]
    }
   ],
   "source": [
    "chair ={'color':'Blue','cost':'450'}\n",
    "print(chair)"
   ]
  },
  {
   "cell_type": "code",
   "execution_count": 9,
   "id": "66a1cf8c",
   "metadata": {},
   "outputs": [
    {
     "data": {
      "text/plain": [
       "dict"
      ]
     },
     "execution_count": 9,
     "metadata": {},
     "output_type": "execute_result"
    }
   ],
   "source": [
    "type(chair)"
   ]
  },
  {
   "cell_type": "code",
   "execution_count": 10,
   "id": "47d73281",
   "metadata": {},
   "outputs": [
    {
     "name": "stdout",
     "output_type": "stream",
     "text": [
      "{'fname': 'noorain', 'lname': 'anjum', 'dob': '09-09-2009'}\n"
     ]
    }
   ],
   "source": [
    "username = {'fname':'noorain','lname':'anjum','dob':'09-09-2009'}\n",
    "print(username)"
   ]
  },
  {
   "cell_type": "code",
   "execution_count": 11,
   "id": "f0cbe9dc",
   "metadata": {},
   "outputs": [
    {
     "data": {
      "text/plain": [
       "dict"
      ]
     },
     "execution_count": 11,
     "metadata": {},
     "output_type": "execute_result"
    }
   ],
   "source": [
    "type(username)"
   ]
  },
  {
   "cell_type": "code",
   "execution_count": 12,
   "id": "1f1cce4b",
   "metadata": {},
   "outputs": [
    {
     "ename": "SyntaxError",
     "evalue": "illegal target for annotation (4627393.py, line 1)",
     "output_type": "error",
     "traceback": [
      "\u001b[1;36m  Cell \u001b[1;32mIn[12], line 1\u001b[1;36m\u001b[0m\n\u001b[1;33m    'location':'T circle'\u001b[0m\n\u001b[1;37m    ^\u001b[0m\n\u001b[1;31mSyntaxError\u001b[0m\u001b[1;31m:\u001b[0m illegal target for annotation\n"
     ]
    }
   ],
   "source": [
    "'location':'T circle'\n",
    "    username['location':'T circle']\n",
    "    print(username)"
   ]
  },
  {
   "cell_type": "code",
   "execution_count": 13,
   "id": "f233be7b",
   "metadata": {},
   "outputs": [
    {
     "ename": "SyntaxError",
     "evalue": "illegal target for annotation (2040209974.py, line 1)",
     "output_type": "error",
     "traceback": [
      "\u001b[1;36m  Cell \u001b[1;32mIn[13], line 1\u001b[1;36m\u001b[0m\n\u001b[1;33m    'location':'T-circle'\u001b[0m\n\u001b[1;37m    ^\u001b[0m\n\u001b[1;31mSyntaxError\u001b[0m\u001b[1;31m:\u001b[0m illegal target for annotation\n"
     ]
    }
   ],
   "source": [
    "'location':'T-circle'\n",
    "    username['location'] = 'T-circle'\n",
    "    print(username)"
   ]
  },
  {
   "cell_type": "code",
   "execution_count": 14,
   "id": "16ba6ee4",
   "metadata": {},
   "outputs": [
    {
     "ename": "SyntaxError",
     "evalue": "illegal target for annotation (1130756725.py, line 1)",
     "output_type": "error",
     "traceback": [
      "\u001b[1;36m  Cell \u001b[1;32mIn[14], line 1\u001b[1;36m\u001b[0m\n\u001b[1;33m    'location':'boli market'\u001b[0m\n\u001b[1;37m    ^\u001b[0m\n\u001b[1;31mSyntaxError\u001b[0m\u001b[1;31m:\u001b[0m illegal target for annotation\n"
     ]
    }
   ],
   "source": [
    "'location':'boli market'\n",
    "    username['location']='boli market'\n",
    "    print(username)"
   ]
  },
  {
   "cell_type": "code",
   "execution_count": 15,
   "id": "b0d6d38b",
   "metadata": {},
   "outputs": [
    {
     "ename": "SyntaxError",
     "evalue": "illegal target for annotation (1255688936.py, line 1)",
     "output_type": "error",
     "traceback": [
      "\u001b[1;36m  Cell \u001b[1;32mIn[15], line 1\u001b[1;36m\u001b[0m\n\u001b[1;33m    'location':'boli market'\u001b[0m\n\u001b[1;37m    ^\u001b[0m\n\u001b[1;31mSyntaxError\u001b[0m\u001b[1;31m:\u001b[0m illegal target for annotation\n"
     ]
    }
   ],
   "source": [
    "'location':'boli market'\n",
    "     username['location'] = 'boli market'\n",
    "        print(username)\n",
    "    "
   ]
  },
  {
   "cell_type": "code",
   "execution_count": 16,
   "id": "62b8e4f7",
   "metadata": {},
   "outputs": [
    {
     "ename": "SyntaxError",
     "evalue": "illegal target for annotation (3965316765.py, line 1)",
     "output_type": "error",
     "traceback": [
      "\u001b[1;36m  Cell \u001b[1;32mIn[16], line 1\u001b[1;36m\u001b[0m\n\u001b[1;33m    'location':'boli market'\u001b[0m\n\u001b[1;37m    ^\u001b[0m\n\u001b[1;31mSyntaxError\u001b[0m\u001b[1;31m:\u001b[0m illegal target for annotation\n"
     ]
    }
   ],
   "source": [
    "'location':'boli market'\n",
    "username['location'] = 'boli market'\n",
    "print(username)"
   ]
  },
  {
   "cell_type": "code",
   "execution_count": null,
   "id": "01ccb72a",
   "metadata": {},
   "outputs": [],
   "source": [
    "'location':'boli market'"
   ]
  },
  {
   "cell_type": "code",
   "execution_count": null,
   "id": "45e1fe1d",
   "metadata": {},
   "outputs": [],
   "source": [
    "username['location'] = 'boli market'"
   ]
  },
  {
   "cell_type": "code",
   "execution_count": 17,
   "id": "e1d6d22f",
   "metadata": {},
   "outputs": [
    {
     "name": "stdout",
     "output_type": "stream",
     "text": [
      "{'fname': 'noorain', 'lname': 'anjum', 'dob': '09-09-2009'}\n"
     ]
    }
   ],
   "source": [
    "print(username)"
   ]
  },
  {
   "cell_type": "code",
   "execution_count": 18,
   "id": "9c8ca541",
   "metadata": {},
   "outputs": [
    {
     "ename": "SyntaxError",
     "evalue": "illegal target for annotation (2285061521.py, line 1)",
     "output_type": "error",
     "traceback": [
      "\u001b[1;36m  Cell \u001b[1;32mIn[18], line 1\u001b[1;36m\u001b[0m\n\u001b[1;33m    'address':'kimrcircle'\u001b[0m\n\u001b[1;37m    ^\u001b[0m\n\u001b[1;31mSyntaxError\u001b[0m\u001b[1;31m:\u001b[0m illegal target for annotation\n"
     ]
    }
   ],
   "source": [
    "'address':'kimrcircle'\n",
    "username['address'] = 'kimrcircle'\n",
    "print(username)"
   ]
  },
  {
   "cell_type": "code",
   "execution_count": null,
   "id": "8661ef98",
   "metadata": {},
   "outputs": [],
   "source": [
    "'address':'kimrcircle'"
   ]
  },
  {
   "cell_type": "code",
   "execution_count": 19,
   "id": "2c916dbc",
   "metadata": {},
   "outputs": [
    {
     "name": "stdout",
     "output_type": "stream",
     "text": [
      "{'fname': 'noorain', 'lname': 'anjum', 'dob': '09-09-2009', 'address': 'kimrcircle'}\n"
     ]
    }
   ],
   "source": [
    "username['address'] = 'kimrcircle'\n",
    "print(username)"
   ]
  },
  {
   "cell_type": "code",
   "execution_count": 21,
   "id": "efc9630b",
   "metadata": {},
   "outputs": [
    {
     "name": "stdout",
     "output_type": "stream",
     "text": [
      "Noorain\n"
     ]
    }
   ],
   "source": [
    "print(username['fname'].title())"
   ]
  },
  {
   "cell_type": "code",
   "execution_count": 22,
   "id": "f261df69",
   "metadata": {},
   "outputs": [
    {
     "ename": "KeyError",
     "evalue": "'kimrcircle'",
     "output_type": "error",
     "traceback": [
      "\u001b[1;31m---------------------------------------------------------------------------\u001b[0m",
      "\u001b[1;31mKeyError\u001b[0m                                  Traceback (most recent call last)",
      "Cell \u001b[1;32mIn[22], line 1\u001b[0m\n\u001b[1;32m----> 1\u001b[0m \u001b[38;5;28mprint\u001b[39m(username[\u001b[38;5;124m'\u001b[39m\u001b[38;5;124mkimrcircle\u001b[39m\u001b[38;5;124m'\u001b[39m])\n",
      "\u001b[1;31mKeyError\u001b[0m: 'kimrcircle'"
     ]
    }
   ],
   "source": [
    "print(username['kimrcircle'])"
   ]
  },
  {
   "cell_type": "code",
   "execution_count": null,
   "id": "5758c3ea",
   "metadata": {},
   "outputs": [],
   "source": []
  }
 ],
 "metadata": {
  "kernelspec": {
   "display_name": "Python 3 (ipykernel)",
   "language": "python",
   "name": "python3"
  },
  "language_info": {
   "codemirror_mode": {
    "name": "ipython",
    "version": 3
   },
   "file_extension": ".py",
   "mimetype": "text/x-python",
   "name": "python",
   "nbconvert_exporter": "python",
   "pygments_lexer": "ipython3",
   "version": "3.11.5"
  }
 },
 "nbformat": 4,
 "nbformat_minor": 5
}
