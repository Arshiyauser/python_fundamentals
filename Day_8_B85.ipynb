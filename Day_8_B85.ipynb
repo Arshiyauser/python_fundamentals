{
 "cells": [
  {
   "cell_type": "code",
   "execution_count": 1,
   "id": "2d04548a",
   "metadata": {},
   "outputs": [
    {
     "ename": "NameError",
     "evalue": "name 'alien' is not defined",
     "output_type": "error",
     "traceback": [
      "\u001b[1;31m---------------------------------------------------------------------------\u001b[0m",
      "\u001b[1;31mNameError\u001b[0m                                 Traceback (most recent call last)",
      "Cell \u001b[1;32mIn[1], line 1\u001b[0m\n\u001b[1;32m----> 1\u001b[0m \u001b[38;5;28mprint\u001b[39m(alien)\n",
      "\u001b[1;31mNameError\u001b[0m: name 'alien' is not defined"
     ]
    }
   ],
   "source": [
    "print(alien)"
   ]
  },
  {
   "cell_type": "code",
   "execution_count": 2,
   "id": "7595af60",
   "metadata": {},
   "outputs": [
    {
     "name": "stdout",
     "output_type": "stream",
     "text": [
      "{'color': 'green', 'points': 15}\n"
     ]
    }
   ],
   "source": [
    "alien = {'color':'green','points':15}\n",
    "print(alien)"
   ]
  },
  {
   "cell_type": "code",
   "execution_count": 3,
   "id": "de7b9c07",
   "metadata": {},
   "outputs": [
    {
     "data": {
      "text/plain": [
       "dict"
      ]
     },
     "execution_count": 3,
     "metadata": {},
     "output_type": "execute_result"
    }
   ],
   "source": [
    "type(alien)"
   ]
  },
  {
   "cell_type": "code",
   "execution_count": 4,
   "id": "5f3158ba",
   "metadata": {},
   "outputs": [
    {
     "name": "stdout",
     "output_type": "stream",
     "text": [
      "{'color': 'green', 'points': 15, 'start_value': 0}\n"
     ]
    }
   ],
   "source": [
    "alien['start_value']=0\n",
    "print(alien)"
   ]
  },
  {
   "cell_type": "code",
   "execution_count": 5,
   "id": "a3e7e8f4",
   "metadata": {},
   "outputs": [
    {
     "name": "stdout",
     "output_type": "stream",
     "text": [
      "{'color': 'yellow', 'points': 15, 'start_value': 0}\n"
     ]
    }
   ],
   "source": [
    "alien['color']='yellow'\n",
    "print(alien)"
   ]
  },
  {
   "cell_type": "code",
   "execution_count": 6,
   "id": "c1c031c8",
   "metadata": {},
   "outputs": [
    {
     "name": "stdout",
     "output_type": "stream",
     "text": [
      "{'color': 'yellow', 'start_value': 0}\n"
     ]
    }
   ],
   "source": [
    "del alien['points']\n",
    "print(alien)"
   ]
  },
  {
   "cell_type": "code",
   "execution_count": 7,
   "id": "225007d5",
   "metadata": {},
   "outputs": [
    {
     "name": "stdout",
     "output_type": "stream",
     "text": [
      "user_name\n",
      "code_training_academy\n",
      "first_name\n",
      "code\n",
      "last_name\n",
      "training\n",
      "password\n",
      "54321\n"
     ]
    }
   ],
   "source": [
    "user_account = {'user_name':'code_training_academy','first_name':'code','last_name':'training','password':'54321'}\n",
    "for a,b in user_account.items():\n",
    "    print(a)\n",
    "    print(b)"
   ]
  },
  {
   "cell_type": "code",
   "execution_count": 8,
   "id": "a1afd890",
   "metadata": {},
   "outputs": [
    {
     "name": "stdout",
     "output_type": "stream",
     "text": [
      "key:user_name\n",
      "values:code_training_academy\n",
      "\n",
      "key:first_name\n",
      "values:code\n",
      "\n",
      "key:last_name\n",
      "values:training\n",
      "\n",
      "key:password\n",
      "values:54321\n",
      "\n"
     ]
    }
   ],
   "source": [
    "for a,b in user_account.items():\n",
    "    print(f\"key:{a}\")\n",
    "    print(f\"values:{b}\\n\")"
   ]
  },
  {
   "cell_type": "code",
   "execution_count": 9,
   "id": "8813b82a",
   "metadata": {},
   "outputs": [
    {
     "name": "stdout",
     "output_type": "stream",
     "text": [
      "key:password\n"
     ]
    }
   ],
   "source": [
    "print(f\"key : {a}\")"
   ]
  },
  {
   "cell_type": "code",
   "execution_count": 11,
   "id": "44548608",
   "metadata": {},
   "outputs": [
    {
     "name": "stdout",
     "output_type": "stream",
     "text": [
      "key:password\n",
      "\n"
     ]
    }
   ],
   "source": [
    " print(f\"key:{a}\\n\")"
   ]
  },
  {
   "cell_type": "code",
   "execution_count": 12,
   "id": "90b9fb1d",
   "metadata": {},
   "outputs": [
    {
     "ename": "SyntaxError",
     "evalue": "expected ':' (720922603.py, line 1)",
     "output_type": "error",
     "traceback": [
      "\u001b[1;36m  Cell \u001b[1;32mIn[12], line 1\u001b[1;36m\u001b[0m\n\u001b[1;33m    for a in user_account.key()\u001b[0m\n\u001b[1;37m                               ^\u001b[0m\n\u001b[1;31mSyntaxError\u001b[0m\u001b[1;31m:\u001b[0m expected ':'\n"
     ]
    }
   ],
   "source": [
    "for a in user_account.key()\n",
    "print(f\"key:{a}\")"
   ]
  },
  {
   "cell_type": "code",
   "execution_count": 13,
   "id": "f399fcc8",
   "metadata": {},
   "outputs": [
    {
     "ename": "SyntaxError",
     "evalue": "expected ':' (2352758860.py, line 1)",
     "output_type": "error",
     "traceback": [
      "\u001b[1;36m  Cell \u001b[1;32mIn[13], line 1\u001b[1;36m\u001b[0m\n\u001b[1;33m    for a in user_account.key()\u001b[0m\n\u001b[1;37m                               ^\u001b[0m\n\u001b[1;31mSyntaxError\u001b[0m\u001b[1;31m:\u001b[0m expected ':'\n"
     ]
    }
   ],
   "source": [
    "for a in user_account.key()\n",
    "print(f\"key : {a}\")"
   ]
  },
  {
   "cell_type": "code",
   "execution_count": 14,
   "id": "4d1e6b40",
   "metadata": {},
   "outputs": [
    {
     "name": "stdout",
     "output_type": "stream",
     "text": [
      "key : user_name\n",
      "key : first_name\n",
      "key : last_name\n",
      "key : password\n"
     ]
    }
   ],
   "source": [
    "for a in user_account.keys():\n",
    "    print(f\"key : {a}\")"
   ]
  },
  {
   "cell_type": "code",
   "execution_count": 15,
   "id": "c9d37ca1",
   "metadata": {},
   "outputs": [
    {
     "name": "stdout",
     "output_type": "stream",
     "text": [
      "value : code_training_academy\n",
      "value : code\n",
      "value : training\n",
      "value : 54321\n"
     ]
    }
   ],
   "source": [
    "for b in user_account.values():\n",
    "    print(f\"value : {b}\")"
   ]
  },
  {
   "cell_type": "code",
   "execution_count": null,
   "id": "b223c251",
   "metadata": {},
   "outputs": [],
   "source": []
  },
  {
   "cell_type": "code",
   "execution_count": null,
   "id": "61eda4e1",
   "metadata": {},
   "outputs": [],
   "source": []
  }
 ],
 "metadata": {
  "kernelspec": {
   "display_name": "Python 3 (ipykernel)",
   "language": "python",
   "name": "python3"
  },
  "language_info": {
   "codemirror_mode": {
    "name": "ipython",
    "version": 3
   },
   "file_extension": ".py",
   "mimetype": "text/x-python",
   "name": "python",
   "nbconvert_exporter": "python",
   "pygments_lexer": "ipython3",
   "version": "3.11.5"
  }
 },
 "nbformat": 4,
 "nbformat_minor": 5
}
